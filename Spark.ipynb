{
 "cells": [
  {
   "cell_type": "code",
   "execution_count": 1,
   "metadata": {},
   "outputs": [],
   "source": [
    "import findspark # SPARK_HOME in zshrc에 잇는 걸 확인해서 spark를 찾음.\n",
    "findspark.init()\n",
    "import pyspark # pyspark를 통해서 sparkcontext를 불러옴.\n",
    "\n",
    "sc=pyspark.SparkContext()\n",
    "\n"
   ]
  },
  {
   "cell_type": "code",
   "execution_count": 2,
   "metadata": {},
   "outputs": [
    {
     "data": {
      "text/plain": [
       "['For the latest information about Hadoop, please visit our website at:',\n",
       " '',\n",
       " '   http://hadoop.apache.org/core/',\n",
       " '',\n",
       " 'and our wiki, at:',\n",
       " '',\n",
       " '   http://wiki.apache.org/hadoop/',\n",
       " '',\n",
       " 'This distribution includes cryptographic software.  The country in ',\n",
       " 'which you currently reside may have restrictions on the import, ',\n",
       " 'possession, use, and/or re-export to another country, of ',\n",
       " 'encryption software.  BEFORE using any encryption software, please ',\n",
       " \"check your country's laws, regulations and policies concerning the\",\n",
       " 'import, possession, or use, and re-export of encryption software, to ',\n",
       " 'see if this is permitted.  See <http://www.wassenaar.org/> for more',\n",
       " 'information.',\n",
       " '',\n",
       " 'The U.S. Government Department of Commerce, Bureau of Industry and',\n",
       " 'Security (BIS), has classified this software as Export Commodity ',\n",
       " 'Control Number (ECCN) 5D002.C.1, which includes information security',\n",
       " 'software using or performing cryptographic functions with asymmetric',\n",
       " 'algorithms.  The form and manner of this Apache Software Foundation',\n",
       " 'distribution makes it eligible for export under the License Exception',\n",
       " 'ENC Technology Software Unrestricted (TSU) exception (see the BIS ',\n",
       " 'Export Administration Regulations, Section 740.13) for both object ',\n",
       " 'code and source code.',\n",
       " '',\n",
       " 'The following provides more details on the included cryptographic',\n",
       " 'software:',\n",
       " '  Hadoop Core uses the SSL libraries from the Jetty project written ',\n",
       " 'by mortbay.org.']"
      ]
     },
     "execution_count": 2,
     "metadata": {},
     "output_type": "execute_result"
    }
   ],
   "source": [
    "\n",
    "sample=sc.textFile(\"hdfs://localhost:9000/user/hadoop/README.txt\") # hdfs에 있는 파일을 spark에서 불러와서 처리(보여주는 것)를 함.\n",
    "sample.collect()\n"
   ]
  },
  {
   "cell_type": "code",
   "execution_count": 3,
   "metadata": {},
   "outputs": [],
   "source": [
    "rdd = sc.parallelize([1,2,3,4])"
   ]
  },
  {
   "cell_type": "code",
   "execution_count": 6,
   "metadata": {},
   "outputs": [
    {
     "name": "stdout",
     "output_type": "stream",
     "text": [
      "[2, 4]\n"
     ]
    }
   ],
   "source": [
    "rdd = rdd.filter(lambda x: x %2 == 0)\n",
    "print(rdd.collect())"
   ]
  },
  {
   "cell_type": "code",
   "execution_count": 7,
   "metadata": {},
   "outputs": [],
   "source": [
    "a = [(u'allston', 207), (u'back bay', 283), (u'bay village', 19), (u'beacon hill', 205), (u'brighton', 180), (u'charlestown', 65), (u'chinatown', 55), (u'dorchester', 240), (u'downtown', 152), (u'east boston', 126), (u'fenway', 296), (u'hyde park', 26), (u'jamaica plain', 315), (u'leather district', 8), (u'longwood medical area', 6), (u'mattapan', 20), (u'mission hill', 101), (u'neighborhood', 1), (u'north end', 132), (u'roslindale', 56), (u'roxbury', 147), (u'south boston', 153), (u'south boston waterfront', 69), (u'south end', 328), (u'west end', 58), (u'west roxbury', 30)]\n",
    "rdd = sc.parallelize(a)\n"
   ]
  },
  {
   "cell_type": "code",
   "execution_count": 8,
   "metadata": {},
   "outputs": [
    {
     "name": "stdout",
     "output_type": "stream",
     "text": [
      "[('allston', 207), ('back bay', 283), ('bay village', 19), ('beacon hill', 205), ('brighton', 180), ('charlestown', 65), ('chinatown', 55), ('dorchester', 240), ('downtown', 152), ('east boston', 126), ('fenway', 296), ('hyde park', 26), ('jamaica plain', 315), ('leather district', 8), ('longwood medical area', 6), ('mattapan', 20), ('mission hill', 101), ('neighborhood', 1), ('north end', 132), ('roslindale', 56), ('roxbury', 147), ('south boston', 153), ('south boston waterfront', 69), ('south end', 328), ('west end', 58), ('west roxbury', 30)]\n"
     ]
    }
   ],
   "source": [
    "print(rdd.collect())"
   ]
  },
  {
   "cell_type": "code",
   "execution_count": null,
   "metadata": {},
   "outputs": [],
   "source": []
  }
 ],
 "metadata": {
  "kernelspec": {
   "display_name": "Python 3",
   "language": "python",
   "name": "python3"
  },
  "language_info": {
   "codemirror_mode": {
    "name": "ipython",
    "version": 3
   },
   "file_extension": ".py",
   "mimetype": "text/x-python",
   "name": "python",
   "nbconvert_exporter": "python",
   "pygments_lexer": "ipython3",
   "version": "3.5.2"
  }
 },
 "nbformat": 4,
 "nbformat_minor": 2
}
